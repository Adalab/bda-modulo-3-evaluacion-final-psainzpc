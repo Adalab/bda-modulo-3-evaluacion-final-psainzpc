{
 "cells": [
  {
   "cell_type": "code",
   "execution_count": null,
   "metadata": {},
   "outputs": [],
   "source": [
    "#%pip install scikit-posthocs"
   ]
  },
  {
   "cell_type": "code",
   "execution_count": 2,
   "metadata": {},
   "outputs": [],
   "source": [
    "# importamos las librerías que necesitamos\n",
    "\n",
    "# Tratamiento de datos\n",
    "# -----------------------------------------------------------------------\n",
    "import pandas as pd\n",
    "import numpy as np\n",
    "from src import soporte as sp\n",
    "\n",
    "# Visualización\n",
    "# ------------------------------------------------------------------------------\n",
    "import matplotlib.pyplot as plt\n",
    "import seaborn as sns\n",
    "\n",
    "# Evaluar linealidad de las relaciones entre las variables\n",
    "# y la distribución de las variables\n",
    "# ------------------------------------------------------------------------------\n",
    "#import scipy.stats as stats\n",
    "from scipy.stats import shapiro, levene\n",
    "from scipy.stats import ttest_ind\n",
    "from scipy.stats import mannwhitneyu\n",
    "from scipy.stats import chi2_contingency\n",
    "import scipy.stats as stats\n",
    "from scipy.stats import shapiro, poisson, chisquare, expon, kstest\n",
    "\n",
    "\n",
    "# Configuración\n",
    "# -----------------------------------------------------------------------\n",
    "pd.set_option('display.max_columns', None) # para poder visualizar todas las columnas de los DataFrames\n",
    "\n",
    "# Gestión de los warnings\n",
    "# -----------------------------------------------------------------------\n",
    "import warnings\n",
    "warnings.filterwarnings(\"ignore\")"
   ]
  },
  {
   "cell_type": "code",
   "execution_count": 3,
   "metadata": {},
   "outputs": [
    {
     "data": {
      "text/html": [
       "<div>\n",
       "<style scoped>\n",
       "    .dataframe tbody tr th:only-of-type {\n",
       "        vertical-align: middle;\n",
       "    }\n",
       "\n",
       "    .dataframe tbody tr th {\n",
       "        vertical-align: top;\n",
       "    }\n",
       "\n",
       "    .dataframe thead th {\n",
       "        text-align: right;\n",
       "    }\n",
       "</style>\n",
       "<table border=\"1\" class=\"dataframe\">\n",
       "  <thead>\n",
       "    <tr style=\"text-align: right;\">\n",
       "      <th></th>\n",
       "      <th>Loyalty Number</th>\n",
       "      <th>Year</th>\n",
       "      <th>Month</th>\n",
       "      <th>Flights Booked</th>\n",
       "      <th>Flights with Companions</th>\n",
       "      <th>Total Flights</th>\n",
       "      <th>Distance</th>\n",
       "      <th>Points Accumulated</th>\n",
       "      <th>Points Redeemed</th>\n",
       "      <th>Dollar Cost Points Redeemed</th>\n",
       "      <th>Country</th>\n",
       "      <th>Province</th>\n",
       "      <th>City</th>\n",
       "      <th>Postal Code</th>\n",
       "      <th>Gender</th>\n",
       "      <th>Education</th>\n",
       "      <th>Salary</th>\n",
       "      <th>Marital Status</th>\n",
       "      <th>Loyalty Card</th>\n",
       "      <th>CLV</th>\n",
       "      <th>Enrollment Type</th>\n",
       "      <th>Enrollment Year</th>\n",
       "      <th>Enrollment Month</th>\n",
       "      <th>Cancellation Year</th>\n",
       "      <th>Cancellation Month</th>\n",
       "    </tr>\n",
       "  </thead>\n",
       "  <tbody>\n",
       "    <tr>\n",
       "      <th>0</th>\n",
       "      <td>100018</td>\n",
       "      <td>2017</td>\n",
       "      <td>1</td>\n",
       "      <td>3</td>\n",
       "      <td>0</td>\n",
       "      <td>3</td>\n",
       "      <td>1521</td>\n",
       "      <td>152.0</td>\n",
       "      <td>0</td>\n",
       "      <td>0</td>\n",
       "      <td>Canada</td>\n",
       "      <td>Alberta</td>\n",
       "      <td>Edmonton</td>\n",
       "      <td>T9G 1W3</td>\n",
       "      <td>Female</td>\n",
       "      <td>Bachelor</td>\n",
       "      <td>92552.0</td>\n",
       "      <td>Married</td>\n",
       "      <td>Aurora</td>\n",
       "      <td>7919.2</td>\n",
       "      <td>Standard</td>\n",
       "      <td>2016</td>\n",
       "      <td>8</td>\n",
       "      <td>NaN</td>\n",
       "      <td>NaN</td>\n",
       "    </tr>\n",
       "    <tr>\n",
       "      <th>1</th>\n",
       "      <td>100018</td>\n",
       "      <td>2017</td>\n",
       "      <td>2</td>\n",
       "      <td>2</td>\n",
       "      <td>2</td>\n",
       "      <td>4</td>\n",
       "      <td>1320</td>\n",
       "      <td>132.0</td>\n",
       "      <td>0</td>\n",
       "      <td>0</td>\n",
       "      <td>Canada</td>\n",
       "      <td>Alberta</td>\n",
       "      <td>Edmonton</td>\n",
       "      <td>T9G 1W3</td>\n",
       "      <td>Female</td>\n",
       "      <td>Bachelor</td>\n",
       "      <td>92552.0</td>\n",
       "      <td>Married</td>\n",
       "      <td>Aurora</td>\n",
       "      <td>7919.2</td>\n",
       "      <td>Standard</td>\n",
       "      <td>2016</td>\n",
       "      <td>8</td>\n",
       "      <td>NaN</td>\n",
       "      <td>NaN</td>\n",
       "    </tr>\n",
       "  </tbody>\n",
       "</table>\n",
       "</div>"
      ],
      "text/plain": [
       "   Loyalty Number  Year  Month  Flights Booked  Flights with Companions  \\\n",
       "0          100018  2017      1               3                        0   \n",
       "1          100018  2017      2               2                        2   \n",
       "\n",
       "   Total Flights  Distance  Points Accumulated  Points Redeemed  \\\n",
       "0              3      1521               152.0                0   \n",
       "1              4      1320               132.0                0   \n",
       "\n",
       "   Dollar Cost Points Redeemed Country Province      City Postal Code  Gender  \\\n",
       "0                            0  Canada  Alberta  Edmonton     T9G 1W3  Female   \n",
       "1                            0  Canada  Alberta  Edmonton     T9G 1W3  Female   \n",
       "\n",
       "  Education   Salary Marital Status Loyalty Card     CLV Enrollment Type  \\\n",
       "0  Bachelor  92552.0        Married       Aurora  7919.2        Standard   \n",
       "1  Bachelor  92552.0        Married       Aurora  7919.2        Standard   \n",
       "\n",
       "   Enrollment Year  Enrollment Month  Cancellation Year  Cancellation Month  \n",
       "0             2016                 8                NaN                 NaN  \n",
       "1             2016                 8                NaN                 NaN  "
      ]
     },
     "execution_count": 3,
     "metadata": {},
     "output_type": "execute_result"
    }
   ],
   "source": [
    "df = pd.read_csv(\"data/union_tablas.csv\", index_col=0)\n",
    "df.head(2)"
   ]
  },
  {
   "cell_type": "markdown",
   "metadata": {},
   "source": [
    "# FASE 3\n",
    "## Evaluación de Diferencias de Reservas de Vuelos por Nivel Educativo"
   ]
  },
  {
   "cell_type": "code",
   "execution_count": 4,
   "metadata": {},
   "outputs": [
    {
     "data": {
      "text/html": [
       "<div>\n",
       "<style scoped>\n",
       "    .dataframe tbody tr th:only-of-type {\n",
       "        vertical-align: middle;\n",
       "    }\n",
       "\n",
       "    .dataframe tbody tr th {\n",
       "        vertical-align: top;\n",
       "    }\n",
       "\n",
       "    .dataframe thead th {\n",
       "        text-align: right;\n",
       "    }\n",
       "</style>\n",
       "<table border=\"1\" class=\"dataframe\">\n",
       "  <thead>\n",
       "    <tr style=\"text-align: right;\">\n",
       "      <th></th>\n",
       "      <th>Education</th>\n",
       "      <th>Flights Booked</th>\n",
       "    </tr>\n",
       "  </thead>\n",
       "  <tbody>\n",
       "    <tr>\n",
       "      <th>0</th>\n",
       "      <td>Bachelor</td>\n",
       "      <td>3</td>\n",
       "    </tr>\n",
       "    <tr>\n",
       "      <th>1</th>\n",
       "      <td>Bachelor</td>\n",
       "      <td>2</td>\n",
       "    </tr>\n",
       "    <tr>\n",
       "      <th>2</th>\n",
       "      <td>Bachelor</td>\n",
       "      <td>14</td>\n",
       "    </tr>\n",
       "    <tr>\n",
       "      <th>3</th>\n",
       "      <td>Bachelor</td>\n",
       "      <td>4</td>\n",
       "    </tr>\n",
       "    <tr>\n",
       "      <th>4</th>\n",
       "      <td>Bachelor</td>\n",
       "      <td>0</td>\n",
       "    </tr>\n",
       "  </tbody>\n",
       "</table>\n",
       "</div>"
      ],
      "text/plain": [
       "  Education  Flights Booked\n",
       "0  Bachelor               3\n",
       "1  Bachelor               2\n",
       "2  Bachelor              14\n",
       "3  Bachelor               4\n",
       "4  Bachelor               0"
      ]
     },
     "execution_count": 4,
     "metadata": {},
     "output_type": "execute_result"
    }
   ],
   "source": [
    "#Preparación de Datos: Filtra el conjunto de datos para incluir únicamente las columnas relevantes: 'Flights Booked' y 'Education'.\n",
    "\n",
    "df_filtrado = df[[\"Education\", \"Flights Booked\"]]\n",
    "df_filtrado.head()"
   ]
  },
  {
   "cell_type": "code",
   "execution_count": 8,
   "metadata": {},
   "outputs": [
    {
     "data": {
      "text/html": [
       "<div>\n",
       "<style scoped>\n",
       "    .dataframe tbody tr th:only-of-type {\n",
       "        vertical-align: middle;\n",
       "    }\n",
       "\n",
       "    .dataframe tbody tr th {\n",
       "        vertical-align: top;\n",
       "    }\n",
       "\n",
       "    .dataframe thead th {\n",
       "        text-align: right;\n",
       "    }\n",
       "</style>\n",
       "<table border=\"1\" class=\"dataframe\">\n",
       "  <thead>\n",
       "    <tr style=\"text-align: right;\">\n",
       "      <th></th>\n",
       "      <th>count</th>\n",
       "      <th>mean</th>\n",
       "      <th>std</th>\n",
       "      <th>min</th>\n",
       "      <th>25%</th>\n",
       "      <th>50%</th>\n",
       "      <th>75%</th>\n",
       "      <th>max</th>\n",
       "    </tr>\n",
       "    <tr>\n",
       "      <th>Education</th>\n",
       "      <th></th>\n",
       "      <th></th>\n",
       "      <th></th>\n",
       "      <th></th>\n",
       "      <th></th>\n",
       "      <th></th>\n",
       "      <th></th>\n",
       "      <th></th>\n",
       "    </tr>\n",
       "  </thead>\n",
       "  <tbody>\n",
       "    <tr>\n",
       "      <th>Bachelor</th>\n",
       "      <td>251400.0</td>\n",
       "      <td>4.129368</td>\n",
       "      <td>5.257359</td>\n",
       "      <td>0.0</td>\n",
       "      <td>0.0</td>\n",
       "      <td>1.0</td>\n",
       "      <td>8.0</td>\n",
       "      <td>39.0</td>\n",
       "    </tr>\n",
       "    <tr>\n",
       "      <th>College</th>\n",
       "      <td>101712.0</td>\n",
       "      <td>4.192209</td>\n",
       "      <td>5.287492</td>\n",
       "      <td>0.0</td>\n",
       "      <td>0.0</td>\n",
       "      <td>1.0</td>\n",
       "      <td>8.0</td>\n",
       "      <td>38.0</td>\n",
       "    </tr>\n",
       "    <tr>\n",
       "      <th>Doctor</th>\n",
       "      <td>17616.0</td>\n",
       "      <td>4.202770</td>\n",
       "      <td>5.305066</td>\n",
       "      <td>0.0</td>\n",
       "      <td>0.0</td>\n",
       "      <td>1.0</td>\n",
       "      <td>8.0</td>\n",
       "      <td>32.0</td>\n",
       "    </tr>\n",
       "    <tr>\n",
       "      <th>High School or Below</th>\n",
       "      <td>18768.0</td>\n",
       "      <td>4.208919</td>\n",
       "      <td>5.296142</td>\n",
       "      <td>0.0</td>\n",
       "      <td>0.0</td>\n",
       "      <td>1.0</td>\n",
       "      <td>8.0</td>\n",
       "      <td>31.0</td>\n",
       "    </tr>\n",
       "    <tr>\n",
       "      <th>Master</th>\n",
       "      <td>12192.0</td>\n",
       "      <td>4.233432</td>\n",
       "      <td>5.266140</td>\n",
       "      <td>0.0</td>\n",
       "      <td>0.0</td>\n",
       "      <td>1.0</td>\n",
       "      <td>8.0</td>\n",
       "      <td>33.0</td>\n",
       "    </tr>\n",
       "  </tbody>\n",
       "</table>\n",
       "</div>"
      ],
      "text/plain": [
       "                         count      mean       std  min  25%  50%  75%   max\n",
       "Education                                                                   \n",
       "Bachelor              251400.0  4.129368  5.257359  0.0  0.0  1.0  8.0  39.0\n",
       "College               101712.0  4.192209  5.287492  0.0  0.0  1.0  8.0  38.0\n",
       "Doctor                 17616.0  4.202770  5.305066  0.0  0.0  1.0  8.0  32.0\n",
       "High School or Below   18768.0  4.208919  5.296142  0.0  0.0  1.0  8.0  31.0\n",
       "Master                 12192.0  4.233432  5.266140  0.0  0.0  1.0  8.0  33.0"
      ]
     },
     "execution_count": 8,
     "metadata": {},
     "output_type": "execute_result"
    }
   ],
   "source": [
    "#Análisis Descriptivo: Agrupa los datos por nivel educativo y calcula estadísticas descriptivas básicas (como el promedio, la desviación estandar) \n",
    "#del número de vuelos reservados para cada grupo.\n",
    "\n",
    "df_agrupado = df_filtrado.groupby(\"Education\")[\"Flights Booked\"].describe()\n",
    "df_agrupado\n",
    "\n",
    "#la media es similar"
   ]
  },
  {
   "cell_type": "code",
   "execution_count": null,
   "metadata": {},
   "outputs": [],
   "source": [
    "#  Prueba Estadística: \n",
    "# Realiza una prueba de hipótesis para determinar si existe una diferencia significativa en el número de vuelos reservados entre los diferentes niveles educativos."
   ]
  },
  {
   "cell_type": "code",
   "execution_count": 90,
   "metadata": {},
   "outputs": [
    {
     "data": {
      "image/png": "[encoded data removed]",
      "text/plain": [
       "<Figure size 640x480 with 1 Axes>"
      ]
     },
     "metadata": {},
     "output_type": "display_data"
    }
   ],
   "source": [
    "#para visualizar la distribución de los vuelos reservados por nivel educativo al ver una desviación estandard considerada: grafico boxplot.\n",
    "sns.boxplot(x=\"Education\", y=\"Flights Booked\", data=df_filtrado, palette=\"Set2\")\n",
    "plt.title(\"Distribución de Vuelos Reservados por Nivel Educativo\")\n",
    "plt.xlabel(\"Nivel Educativo\")\n",
    "plt.ylabel(\"Vuelos Reservados\")\n",
    "plt.xticks(rotation=90);\n",
    "\n"
   ]
  },
  {
   "cell_type": "code",
   "execution_count": 83,
   "metadata": {},
   "outputs": [],
   "source": [
    "#la mediana de vuelos reservados es similar en todos los niveles educativos. \n",
    "# Hay una cantidad significativa de valores atípicos por cada nivel educativo."
   ]
  },
  {
   "cell_type": "code",
   "execution_count": null,
   "metadata": {},
   "outputs": [],
   "source": [
    "pd.crosstab(df_filtrado[\"Education\"], df_filtrado[\"Flights Booked\"])\n",
    "# No es un problema de proporciones"
   ]
  },
  {
   "cell_type": "code",
   "execution_count": 91,
   "metadata": {},
   "outputs": [
    {
     "name": "stdout",
     "output_type": "stream",
     "text": [
      "Para la columna Flights Booked los datos no siguen una distribución normal.\n"
     ]
    }
   ],
   "source": [
    "sp.normalidad(df_filtrado, \"Flights Booked\")\n",
    "\n",
    "#Evaluo la normalidad de los datos utilizando la prueba de Shapiro.\n",
    "#confirma que los datos NO siguen una distribución normal "
   ]
  },
  {
   "cell_type": "code",
   "execution_count": 92,
   "metadata": {},
   "outputs": [],
   "source": [
    "#Para clasificar el nivel de estudios en 2 grupos, primero hago un diccionario con los diferentes tipos de estudios y los asocio a un nivel: basic o advanced\"\n",
    "nivel_estudios = {\"High School or Below\": \"Basic\",\n",
    "    \"College\": \"Basic\",  \n",
    "    \"Bachelor\": \"Advanced\",\n",
    "    \"Master\": \"Advanced\",\n",
    "    \"Doctor\": \"Advanced\"}"
   ]
  },
  {
   "cell_type": "code",
   "execution_count": 93,
   "metadata": {},
   "outputs": [],
   "source": [
    "#Creo una columna nueva con el nivel de educación y le aplico el diccionario con la función MAP\n",
    "df_filtrado[\"Level Education\"] = df_filtrado[\"Education\"].map(nivel_estudios)"
   ]
  },
  {
   "cell_type": "code",
   "execution_count": 32,
   "metadata": {},
   "outputs": [
    {
     "data": {
      "text/html": [
       "<div>\n",
       "<style scoped>\n",
       "    .dataframe tbody tr th:only-of-type {\n",
       "        vertical-align: middle;\n",
       "    }\n",
       "\n",
       "    .dataframe tbody tr th {\n",
       "        vertical-align: top;\n",
       "    }\n",
       "\n",
       "    .dataframe thead th {\n",
       "        text-align: right;\n",
       "    }\n",
       "</style>\n",
       "<table border=\"1\" class=\"dataframe\">\n",
       "  <thead>\n",
       "    <tr style=\"text-align: right;\">\n",
       "      <th></th>\n",
       "      <th>Education</th>\n",
       "      <th>Flights Booked</th>\n",
       "      <th>Level Education</th>\n",
       "    </tr>\n",
       "  </thead>\n",
       "  <tbody>\n",
       "    <tr>\n",
       "      <th>0</th>\n",
       "      <td>Bachelor</td>\n",
       "      <td>3</td>\n",
       "      <td>Advanced</td>\n",
       "    </tr>\n",
       "    <tr>\n",
       "      <th>1</th>\n",
       "      <td>Bachelor</td>\n",
       "      <td>2</td>\n",
       "      <td>Advanced</td>\n",
       "    </tr>\n",
       "    <tr>\n",
       "      <th>2</th>\n",
       "      <td>Bachelor</td>\n",
       "      <td>14</td>\n",
       "      <td>Advanced</td>\n",
       "    </tr>\n",
       "    <tr>\n",
       "      <th>3</th>\n",
       "      <td>Bachelor</td>\n",
       "      <td>4</td>\n",
       "      <td>Advanced</td>\n",
       "    </tr>\n",
       "    <tr>\n",
       "      <th>4</th>\n",
       "      <td>Bachelor</td>\n",
       "      <td>0</td>\n",
       "      <td>Advanced</td>\n",
       "    </tr>\n",
       "  </tbody>\n",
       "</table>\n",
       "</div>"
      ],
      "text/plain": [
       "  Education  Flights Booked Level Education\n",
       "0  Bachelor               3        Advanced\n",
       "1  Bachelor               2        Advanced\n",
       "2  Bachelor              14        Advanced\n",
       "3  Bachelor               4        Advanced\n",
       "4  Bachelor               0        Advanced"
      ]
     },
     "execution_count": 32,
     "metadata": {},
     "output_type": "execute_result"
    }
   ],
   "source": [
    "df_filtrado.head()"
   ]
  },
  {
   "cell_type": "code",
   "execution_count": 94,
   "metadata": {},
   "outputs": [],
   "source": [
    "#Hago 2 grupos para el estudio: grupo basic con nivel basico de estudios y grupo advanced con nivel avanzado de estudios\n",
    "grupo_basic = df_filtrado[df_filtrado[\"Level Education\"] == \"Basic\"][\"Flights Booked\"]\n",
    "grupo_advanced = df_filtrado[df_filtrado[\"Level Education\"] == \"Advanced\"][\"Flights Booked\"]"
   ]
  },
  {
   "cell_type": "code",
   "execution_count": 96,
   "metadata": {},
   "outputs": [
    {
     "name": "stdout",
     "output_type": "stream",
     "text": [
      "La MEDIA de vuelos realizados por el grupo con nivel de estudios básico es: 4.19\n",
      "La MEDIA de vuelos realizados por el grupo con nivel de estudios avanzados es: 4.14\n"
     ]
    }
   ],
   "source": [
    "print(f\"La MEDIA de vuelos realizados por el grupo con nivel de estudios básico es: {round(grupo_basic.mean(), 2)}\")\n",
    "print(f\"La MEDIA de vuelos realizados por el grupo con nivel de estudios avanzados es: {round(grupo_advanced.mean(), 2)}\")"
   ]
  },
  {
   "cell_type": "code",
   "execution_count": 95,
   "metadata": {},
   "outputs": [
    {
     "name": "stdout",
     "output_type": "stream",
     "text": [
      "La MEDIANA de vuelos realizados por el grupo con nivel de estudios básico es: 1.0\n",
      "La MEDIANA de vuelos realizados por el grupo con nivel de estudios avanzados es: 1.0\n"
     ]
    }
   ],
   "source": [
    "print(f\"La MEDIANA de vuelos realizados por el grupo con nivel de estudios básico es: {round(grupo_basic.median(), 2)}\")\n",
    "print(f\"La MEDIANA de vuelos realizados por el grupo con nivel de estudios avanzados es: {round(grupo_advanced.median(), 2)}\")"
   ]
  },
  {
   "cell_type": "code",
   "execution_count": null,
   "metadata": {},
   "outputs": [],
   "source": [
    "#levene para medir la homogeneidad de varianzas: "
   ]
  },
  {
   "cell_type": "code",
   "execution_count": 97,
   "metadata": {},
   "outputs": [
    {
     "name": "stdout",
     "output_type": "stream",
     "text": [
      "Estadístico de Levene: 9.339893634095281\n",
      "Valor p: 0.0022423324734499677\n",
      "Las varianzas son significativamente diferentes entre los grupos.\n"
     ]
    }
   ],
   "source": [
    "# Realizamos el test de Levene\n",
    "stat, p_value = levene(grupo_basic, grupo_advanced)\n",
    "\n",
    "# Imprimimos el resultado\n",
    "print(f\"Estadístico de Levene: {stat}\")\n",
    "print(f\"Valor p: {p_value}\")\n",
    "\n",
    "# Interpretación del resultado\n",
    "alpha = 0.05  # Nivel de significancia comúnmente usado\n",
    "if p_value < alpha:\n",
    "    print(\"Las varianzas son significativamente diferentes entre los grupos.\")\n",
    "else:\n",
    "    print(\"No hay evidencia suficiente para decir que las varianzas son diferentes.\")"
   ]
  },
  {
   "cell_type": "code",
   "execution_count": null,
   "metadata": {},
   "outputs": [],
   "source": [
    "# ya que los datos no son normales y confirmamos que las varianzas son significativamente diferentes\n",
    "# procedo a hacer el test de Mann-Whitney, puesto que no requere que los datos sean normales."
   ]
  },
  {
   "cell_type": "markdown",
   "metadata": {},
   "source": [
    "si p_value < 0.05 --> SI existe una diferencia significativa\n",
    "\n",
    "si p_value > 0.05 --> NO existe diferencia significativa"
   ]
  },
  {
   "cell_type": "code",
   "execution_count": 59,
   "metadata": {},
   "outputs": [
    {
     "name": "stdout",
     "output_type": "stream",
     "text": [
      "0.0026215363669007336\n"
     ]
    }
   ],
   "source": [
    "_, p_value = mannwhitneyu(grupo_basic, grupo_advanced)\n",
    "\n",
    "print(p_value)"
   ]
  },
  {
   "cell_type": "code",
   "execution_count": 60,
   "metadata": {},
   "outputs": [
    {
     "data": {
      "text/plain": [
       "np.True_"
      ]
     },
     "execution_count": 60,
     "metadata": {},
     "output_type": "execute_result"
    }
   ],
   "source": [
    "p_value < 0.05\n",
    "\n",
    "#SI existe una diferencia significativa entre el nivel de estudios y el número de vuelos realizados"
   ]
  },
  {
   "cell_type": "code",
   "execution_count": null,
   "metadata": {},
   "outputs": [],
   "source": [
    "# El test de Kruskal-Wallis es una extensión del test de Mann-Whitney para más de dos grupos. \n",
    "# Es una prueba no paramétrica que se usa para comparar las medianas de tres o más grupos independientes y \n",
    "# determinar si al menos uno de los grupos tiene una distribución diferente de los demás.\n",
    "\n",
    "#Al igual que el test de Mann-Whitney, Kruskal-Wallis no asume normalidad y es adecuado cuando las varianzas \n",
    "# no son iguales entre los grupos, como en el caso del test de Levene."
   ]
  },
  {
   "cell_type": "code",
   "execution_count": 6,
   "metadata": {},
   "outputs": [
    {
     "name": "stdout",
     "output_type": "stream",
     "text": [
      "Kruskal-Wallis: estadístico=18.71507053972487, valor p=0.0008939855290647737\n",
      "Hay una diferencia significativa entre los grupos.\n"
     ]
    }
   ],
   "source": [
    "from scipy.stats import kruskal\n",
    "\n",
    "# Dividimos los datos en grupos por nivel educativo\n",
    "grupos = [grupo[\"Flights Booked\"].values for _, grupo in df_filtrado.groupby(\"Education\")]\n",
    "\n",
    "# Prueba de Kruskal-Wallis\n",
    "stat, p_value = kruskal(*grupos)\n",
    "print(f\"Kruskal-Wallis: estadístico={stat}, valor p={p_value}\")\n",
    "if p_value < 0.05:\n",
    "    print(\"Hay una diferencia significativa entre los grupos.\")\n",
    "else:\n",
    "    print(\"No hay evidencia suficiente para decir que los grupos son diferentes.\")"
   ]
  },
  {
   "cell_type": "code",
   "execution_count": null,
   "metadata": {},
   "outputs": [],
   "source": [
    "# Con un valor p < 0.05, podemos concluir que existen diferencias significativas en el número de vuelos reservados entre los \n",
    "# diferentes niveles educativos. \n",
    "# Esto sugiere que el nivel educativo tiene un efecto en la cantidad de vuelos reservados por los participantes.\n",
    "# junto con los datos estadisticos podriamos decir que: \n",
    "\n",
    "# Aunque las medias son cercanas, algunas de las diferencias en la cantidad de vuelos máximos podrían reflejar ciertos patrones:\n",
    "# Posibles diferencias en el acceso o recursos: Los grupos con niveles educativos más altos, como Doctorado o Máster, \n",
    "# podrían tener más recursos financieros o profesionales que les permitan realizar más viajes, \n",
    "# lo que podría reflejarse en el valor máximo (hasta 39 vuelos reservados en el caso de \"Bachelor\" y \"College\").\n",
    "# Las personas con menos educación formal (por ejemplo, \"High School or Below\") \n",
    "# podrían tener diferentes motivos para viajar, por ejemplo mayor necesidad de desplazamiento por motivos laborales."
   ]
  },
  {
   "cell_type": "code",
   "execution_count": 9,
   "metadata": {},
   "outputs": [
    {
     "data": {
      "text/html": [
       "<div>\n",
       "<style scoped>\n",
       "    .dataframe tbody tr th:only-of-type {\n",
       "        vertical-align: middle;\n",
       "    }\n",
       "\n",
       "    .dataframe tbody tr th {\n",
       "        vertical-align: top;\n",
       "    }\n",
       "\n",
       "    .dataframe thead th {\n",
       "        text-align: right;\n",
       "    }\n",
       "</style>\n",
       "<table border=\"1\" class=\"dataframe\">\n",
       "  <thead>\n",
       "    <tr style=\"text-align: right;\">\n",
       "      <th></th>\n",
       "      <th>count</th>\n",
       "      <th>mean</th>\n",
       "      <th>std</th>\n",
       "      <th>min</th>\n",
       "      <th>25%</th>\n",
       "      <th>50%</th>\n",
       "      <th>75%</th>\n",
       "      <th>max</th>\n",
       "    </tr>\n",
       "    <tr>\n",
       "      <th>Education</th>\n",
       "      <th></th>\n",
       "      <th></th>\n",
       "      <th></th>\n",
       "      <th></th>\n",
       "      <th></th>\n",
       "      <th></th>\n",
       "      <th></th>\n",
       "      <th></th>\n",
       "    </tr>\n",
       "  </thead>\n",
       "  <tbody>\n",
       "    <tr>\n",
       "      <th>Bachelor</th>\n",
       "      <td>251400.0</td>\n",
       "      <td>4.129368</td>\n",
       "      <td>5.257359</td>\n",
       "      <td>0.0</td>\n",
       "      <td>0.0</td>\n",
       "      <td>1.0</td>\n",
       "      <td>8.0</td>\n",
       "      <td>39.0</td>\n",
       "    </tr>\n",
       "    <tr>\n",
       "      <th>College</th>\n",
       "      <td>101712.0</td>\n",
       "      <td>4.192209</td>\n",
       "      <td>5.287492</td>\n",
       "      <td>0.0</td>\n",
       "      <td>0.0</td>\n",
       "      <td>1.0</td>\n",
       "      <td>8.0</td>\n",
       "      <td>38.0</td>\n",
       "    </tr>\n",
       "    <tr>\n",
       "      <th>Doctor</th>\n",
       "      <td>17616.0</td>\n",
       "      <td>4.202770</td>\n",
       "      <td>5.305066</td>\n",
       "      <td>0.0</td>\n",
       "      <td>0.0</td>\n",
       "      <td>1.0</td>\n",
       "      <td>8.0</td>\n",
       "      <td>32.0</td>\n",
       "    </tr>\n",
       "    <tr>\n",
       "      <th>High School or Below</th>\n",
       "      <td>18768.0</td>\n",
       "      <td>4.208919</td>\n",
       "      <td>5.296142</td>\n",
       "      <td>0.0</td>\n",
       "      <td>0.0</td>\n",
       "      <td>1.0</td>\n",
       "      <td>8.0</td>\n",
       "      <td>31.0</td>\n",
       "    </tr>\n",
       "    <tr>\n",
       "      <th>Master</th>\n",
       "      <td>12192.0</td>\n",
       "      <td>4.233432</td>\n",
       "      <td>5.266140</td>\n",
       "      <td>0.0</td>\n",
       "      <td>0.0</td>\n",
       "      <td>1.0</td>\n",
       "      <td>8.0</td>\n",
       "      <td>33.0</td>\n",
       "    </tr>\n",
       "  </tbody>\n",
       "</table>\n",
       "</div>"
      ],
      "text/plain": [
       "                         count      mean       std  min  25%  50%  75%   max\n",
       "Education                                                                   \n",
       "Bachelor              251400.0  4.129368  5.257359  0.0  0.0  1.0  8.0  39.0\n",
       "College               101712.0  4.192209  5.287492  0.0  0.0  1.0  8.0  38.0\n",
       "Doctor                 17616.0  4.202770  5.305066  0.0  0.0  1.0  8.0  32.0\n",
       "High School or Below   18768.0  4.208919  5.296142  0.0  0.0  1.0  8.0  31.0\n",
       "Master                 12192.0  4.233432  5.266140  0.0  0.0  1.0  8.0  33.0"
      ]
     },
     "execution_count": 9,
     "metadata": {},
     "output_type": "execute_result"
    }
   ],
   "source": [
    "df_agrupado"
   ]
  },
  {
   "cell_type": "code",
   "execution_count": 13,
   "metadata": {},
   "outputs": [
    {
     "name": "stdout",
     "output_type": "stream",
     "text": [
      "Kruskal-Wallis: estadístico=18.71507053972487, valor p=0.0008939855290647737\n",
      "\n",
      "Se han encontrado diferencias significativas, realizando prueba post-hoc de Dunn...\n"
     ]
    },
    {
     "data": {
      "text/html": [
       "<div>\n",
       "<style scoped>\n",
       "    .dataframe tbody tr th:only-of-type {\n",
       "        vertical-align: middle;\n",
       "    }\n",
       "\n",
       "    .dataframe tbody tr th {\n",
       "        vertical-align: top;\n",
       "    }\n",
       "\n",
       "    .dataframe thead th {\n",
       "        text-align: right;\n",
       "    }\n",
       "</style>\n",
       "<table border=\"1\" class=\"dataframe\">\n",
       "  <thead>\n",
       "    <tr style=\"text-align: right;\">\n",
       "      <th></th>\n",
       "      <th>Bachelor</th>\n",
       "      <th>College</th>\n",
       "      <th>Doctor</th>\n",
       "      <th>High School or Below</th>\n",
       "      <th>Master</th>\n",
       "    </tr>\n",
       "  </thead>\n",
       "  <tbody>\n",
       "    <tr>\n",
       "      <th>Bachelor</th>\n",
       "      <td>1.000000</td>\n",
       "      <td>0.02064</td>\n",
       "      <td>0.782277</td>\n",
       "      <td>0.280907</td>\n",
       "      <td>0.101581</td>\n",
       "    </tr>\n",
       "    <tr>\n",
       "      <th>College</th>\n",
       "      <td>0.020640</td>\n",
       "      <td>1.00000</td>\n",
       "      <td>1.000000</td>\n",
       "      <td>1.000000</td>\n",
       "      <td>1.000000</td>\n",
       "    </tr>\n",
       "    <tr>\n",
       "      <th>Doctor</th>\n",
       "      <td>0.782277</td>\n",
       "      <td>1.00000</td>\n",
       "      <td>1.000000</td>\n",
       "      <td>1.000000</td>\n",
       "      <td>1.000000</td>\n",
       "    </tr>\n",
       "    <tr>\n",
       "      <th>High School or Below</th>\n",
       "      <td>0.280907</td>\n",
       "      <td>1.00000</td>\n",
       "      <td>1.000000</td>\n",
       "      <td>1.000000</td>\n",
       "      <td>1.000000</td>\n",
       "    </tr>\n",
       "    <tr>\n",
       "      <th>Master</th>\n",
       "      <td>0.101581</td>\n",
       "      <td>1.00000</td>\n",
       "      <td>1.000000</td>\n",
       "      <td>1.000000</td>\n",
       "      <td>1.000000</td>\n",
       "    </tr>\n",
       "  </tbody>\n",
       "</table>\n",
       "</div>"
      ],
      "text/plain": [
       "                      Bachelor  College    Doctor  High School or Below  \\\n",
       "Bachelor              1.000000  0.02064  0.782277              0.280907   \n",
       "College               0.020640  1.00000  1.000000              1.000000   \n",
       "Doctor                0.782277  1.00000  1.000000              1.000000   \n",
       "High School or Below  0.280907  1.00000  1.000000              1.000000   \n",
       "Master                0.101581  1.00000  1.000000              1.000000   \n",
       "\n",
       "                        Master  \n",
       "Bachelor              0.101581  \n",
       "College               1.000000  \n",
       "Doctor                1.000000  \n",
       "High School or Below  1.000000  \n",
       "Master                1.000000  "
      ]
     },
     "metadata": {},
     "output_type": "display_data"
    }
   ],
   "source": [
    "from scipy.stats import kruskal\n",
    "import scikit_posthocs as sc\n",
    "\n",
    "# Dividimos los datos en grupos por nivel educativo\n",
    "grupos = [grupo[\"Flights Booked\"].values for _, grupo in df_filtrado.groupby(\"Education\")]\n",
    "\n",
    "# Prueba de Kruskal-Wallis\n",
    "stat, p_value = kruskal(*grupos)\n",
    "print(f\"Kruskal-Wallis: estadístico={stat}, valor p={p_value}\")\n",
    "if p_value < 0.05:\n",
    "    print(\"\\nSe han encontrado diferencias significativas, realizando prueba post-hoc de Dunn...\")\n",
    "    posthoc_result = sc.posthoc_dunn(df_filtrado, val_col='Flights Booked', group_col='Education', p_adjust='bonferroni')\n",
    "    display(posthoc_result)\n",
    "else:\n",
    "    print(\"No hay evidencia suficiente para decir que los grupos son diferentes.\")"
   ]
  },
  {
   "cell_type": "markdown",
   "metadata": {},
   "source": [
    "Resumen de las comparaciones significativas:\n",
    "- Bachelor vs College: p = 0.02064 → Significativa.\n",
    "- Bachelor vs Master: p = 0.101581 → No significativa (p > 0.05).\n",
    "- Bachelor vs High School or Below: p = 0.280907 → No significativa (p > 0.05).\n",
    "- College vs Doctor: p = 1.000000 → No significativa (p > 0.05).\n",
    "- College vs High School or Below: p = 1.000000 → No significativa (p > 0.05).\n",
    "- College vs Master: p = 1.000000 → No significativa (p > 0.05).\n",
    "- Doctor vs High School or Below: p = 1.000000 → No significativa (p > 0.05).\n",
    "- Doctor vs Master: p = 1.000000 → No significativa (p > 0.05).\n",
    "- High School or Below vs Master: p = 1.000000 → No significativa (p > 0.05)."
   ]
  },
  {
   "cell_type": "markdown",
   "metadata": {},
   "source": [
    "Conclusión final: NO existe diferencia significativa entre el nivel educativo y el número de vuelos, salvo en la comparación entre:\n",
    "Bachelor y Collage, que si existe esa diferencia significativa. "
   ]
  }
 ],
 "metadata": {
  "kernelspec": {
   "display_name": "Python 3",
   "language": "python",
   "name": "python3"
  },
  "language_info": {
   "codemirror_mode": {
    "name": "ipython",
    "version": 3
   },
   "file_extension": ".py",
   "mimetype": "text/x-python",
   "name": "python",
   "nbconvert_exporter": "python",
   "pygments_lexer": "ipython3",
   "version": "3.12.4"
  }
 },
 "nbformat": 4,
 "nbformat_minor": 2
}
